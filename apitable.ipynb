{
 "cells": [
  {
   "cell_type": "code",
   "execution_count": 5,
   "id": "144297c4-a1a2-4003-8d38-4dbb3b62caa0",
   "metadata": {},
   "outputs": [
    {
     "name": "stdout",
     "output_type": "stream",
     "text": [
      "Requirement already satisfied: apitable in /Users/samzonglu/Library/jupyterlab-desktop/jlab_server/lib/python3.8/site-packages (1.4.1)\n",
      "Requirement already satisfied: certifi<2024.0.0,>=2023.7.22 in /Users/samzonglu/Library/jupyterlab-desktop/jlab_server/lib/python3.8/site-packages (from apitable) (2023.7.22)\n",
      "Requirement already satisfied: charset-normalizer<4.0.0,>=3.2.0 in /Users/samzonglu/Library/jupyterlab-desktop/jlab_server/lib/python3.8/site-packages (from apitable) (3.2.0)\n",
      "Requirement already satisfied: environs<10.0.0,>=9.5.0 in /Users/samzonglu/Library/jupyterlab-desktop/jlab_server/lib/python3.8/site-packages (from apitable) (9.5.0)\n",
      "Requirement already satisfied: idna<4.0,>=3.4 in /Users/samzonglu/Library/jupyterlab-desktop/jlab_server/lib/python3.8/site-packages (from apitable) (3.4)\n",
      "Requirement already satisfied: marshmallow<4.0.0,>=3.20.1 in /Users/samzonglu/Library/jupyterlab-desktop/jlab_server/lib/python3.8/site-packages (from apitable) (3.20.1)\n",
      "Collecting pydantic==2.4.2 (from apitable)\n",
      "  Obtaining dependency information for pydantic==2.4.2 from https://files.pythonhosted.org/packages/73/66/0a72c9fcde42e5650c8d8d5c5c1873b9a3893018020c77ca8eb62708b923/pydantic-2.4.2-py3-none-any.whl.metadata\n",
      "  Using cached pydantic-2.4.2-py3-none-any.whl.metadata (158 kB)\n",
      "Requirement already satisfied: python-dotenv<2.0.0,>=1.0.0 in /Users/samzonglu/Library/jupyterlab-desktop/jlab_server/lib/python3.8/site-packages (from apitable) (1.0.0)\n",
      "Requirement already satisfied: requests<3.0.0,>=2.31.0 in /Users/samzonglu/Library/jupyterlab-desktop/jlab_server/lib/python3.8/site-packages (from apitable) (2.31.0)\n",
      "Requirement already satisfied: urllib3<3.0.0,>=2.0.4 in /Users/samzonglu/Library/jupyterlab-desktop/jlab_server/lib/python3.8/site-packages (from apitable) (2.0.4)\n",
      "Requirement already satisfied: annotated-types>=0.4.0 in /Users/samzonglu/Library/jupyterlab-desktop/jlab_server/lib/python3.8/site-packages (from pydantic==2.4.2->apitable) (0.6.0)\n",
      "Requirement already satisfied: pydantic-core==2.10.1 in /Users/samzonglu/Library/jupyterlab-desktop/jlab_server/lib/python3.8/site-packages (from pydantic==2.4.2->apitable) (2.10.1)\n",
      "Requirement already satisfied: typing-extensions>=4.6.1 in /Users/samzonglu/Library/jupyterlab-desktop/jlab_server/lib/python3.8/site-packages (from pydantic==2.4.2->apitable) (4.7.1)\n",
      "Requirement already satisfied: packaging>=17.0 in /Users/samzonglu/Library/jupyterlab-desktop/jlab_server/lib/python3.8/site-packages (from marshmallow<4.0.0,>=3.20.1->apitable) (23.1)\n",
      "Using cached pydantic-2.4.2-py3-none-any.whl (395 kB)\n",
      "Installing collected packages: pydantic\n",
      "  Attempting uninstall: pydantic\n",
      "    Found existing installation: pydantic 1.10.13\n",
      "    Uninstalling pydantic-1.10.13:\n",
      "      Successfully uninstalled pydantic-1.10.13\n",
      "Successfully installed pydantic-2.4.2\n"
     ]
    }
   ],
   "source": [
    "!pip install apitable"
   ]
  },
  {
   "cell_type": "code",
   "execution_count": 9,
   "id": "5b42478f-b91c-4dfe-bad9-63b3d441a4fc",
   "metadata": {},
   "outputs": [],
   "source": [
    "import requests\n",
    "\n",
    "def alter_msg(content):\n",
    "    webhook_url = \"https://qyapi.weixin.qq.com/cgi-bin/webhook/send?key=ce29a1fb-a8e5-4ca1-b48e-7645b31cd278\"\n",
    "    headers = {\"Content-Type\":\"application/json\"}\n",
    "\n",
    "    data = {\n",
    "        \"msgtype\": \"text\",\n",
    "        \"text\": {\n",
    "            \"content\": content,\n",
    "            \"mentioned_list\": [\"ZhangJing\"]\n",
    "        }\n",
    "    }\n",
    "    resp = requests.post(url=webhook_url,headers=headers,json=data)\n",
    "    print(resp.json())\n",
    "    "
   ]
  },
  {
   "cell_type": "code",
   "execution_count": 8,
   "id": "adbc2c7b-14b7-41ea-971b-4460b4214274",
   "metadata": {},
   "outputs": [
    {
     "ename": "AttributeError",
     "evalue": "type object 'FieldPropertyWithDstId' has no attribute 'model_rebuild'",
     "output_type": "error",
     "traceback": [
      "\u001b[0;31m---------------------------------------------------------------------------\u001b[0m",
      "\u001b[0;31mAttributeError\u001b[0m                            Traceback (most recent call last)",
      "Cell \u001b[0;32mIn[8], line 1\u001b[0m\n\u001b[0;32m----> 1\u001b[0m \u001b[38;5;28;01mfrom\u001b[39;00m \u001b[38;5;21;01mapitable\u001b[39;00m \u001b[38;5;28;01mimport\u001b[39;00m Apitable\n\u001b[1;32m      3\u001b[0m apitable \u001b[38;5;241m=\u001b[39m Apitable(\u001b[38;5;124m'\u001b[39m\u001b[38;5;124muskEbz3EqWr2EqX8qolif6V\u001b[39m\u001b[38;5;124m'\u001b[39m)\n\u001b[1;32m      4\u001b[0m apitable\u001b[38;5;241m.\u001b[39mset_api_base(\u001b[38;5;124m'\u001b[39m\u001b[38;5;124mhttps://apitable.daocloud.io\u001b[39m\u001b[38;5;124m'\u001b[39m)\n",
      "File \u001b[0;32m~/Library/jupyterlab-desktop/jlab_server/lib/python3.8/site-packages/apitable/__init__.py:1\u001b[0m\n\u001b[0;32m----> 1\u001b[0m \u001b[38;5;28;01mfrom\u001b[39;00m \u001b[38;5;21;01m.\u001b[39;00m\u001b[38;5;21;01mapitable\u001b[39;00m \u001b[38;5;28;01mimport\u001b[39;00m Apitable\n\u001b[1;32m      3\u001b[0m __all__ \u001b[38;5;241m=\u001b[39m (Apitable, )\n",
      "File \u001b[0;32m~/Library/jupyterlab-desktop/jlab_server/lib/python3.8/site-packages/apitable/apitable.py:4\u001b[0m\n\u001b[1;32m      1\u001b[0m \u001b[38;5;28;01mimport\u001b[39;00m \u001b[38;5;21;01mrequests\u001b[39;00m\n\u001b[1;32m      3\u001b[0m \u001b[38;5;28;01mfrom\u001b[39;00m \u001b[38;5;21;01m.\u001b[39;00m\u001b[38;5;21;01mconst\u001b[39;00m \u001b[38;5;28;01mimport\u001b[39;00m API_BASE\n\u001b[0;32m----> 4\u001b[0m \u001b[38;5;28;01mfrom\u001b[39;00m \u001b[38;5;21;01m.\u001b[39;00m\u001b[38;5;21;01mdatasheet\u001b[39;00m \u001b[38;5;28;01mimport\u001b[39;00m Datasheet\n\u001b[1;32m      5\u001b[0m \u001b[38;5;28;01mfrom\u001b[39;00m \u001b[38;5;21;01m.\u001b[39;00m\u001b[38;5;21;01mnode\u001b[39;00m \u001b[38;5;28;01mimport\u001b[39;00m NodeManager\n\u001b[1;32m      6\u001b[0m \u001b[38;5;28;01mfrom\u001b[39;00m \u001b[38;5;21;01m.\u001b[39;00m\u001b[38;5;21;01mspace\u001b[39;00m \u001b[38;5;28;01mimport\u001b[39;00m Space, SpaceManager\n",
      "File \u001b[0;32m~/Library/jupyterlab-desktop/jlab_server/lib/python3.8/site-packages/apitable/datasheet/__init__.py:1\u001b[0m\n\u001b[0;32m----> 1\u001b[0m \u001b[38;5;28;01mfrom\u001b[39;00m \u001b[38;5;21;01m.\u001b[39;00m\u001b[38;5;21;01mdatasheet\u001b[39;00m \u001b[38;5;28;01mimport\u001b[39;00m \u001b[38;5;241m*\u001b[39m\n\u001b[1;32m      2\u001b[0m \u001b[38;5;28;01mfrom\u001b[39;00m \u001b[38;5;21;01m.\u001b[39;00m\u001b[38;5;21;01mfield_manager\u001b[39;00m \u001b[38;5;28;01mimport\u001b[39;00m \u001b[38;5;241m*\u001b[39m\n\u001b[1;32m      3\u001b[0m \u001b[38;5;28;01mfrom\u001b[39;00m \u001b[38;5;21;01m.\u001b[39;00m\u001b[38;5;21;01mview_manager\u001b[39;00m \u001b[38;5;28;01mimport\u001b[39;00m \u001b[38;5;241m*\u001b[39m\n",
      "File \u001b[0;32m~/Library/jupyterlab-desktop/jlab_server/lib/python3.8/site-packages/apitable/datasheet/datasheet.py:11\u001b[0m\n\u001b[1;32m      9\u001b[0m \u001b[38;5;28;01mfrom\u001b[39;00m \u001b[38;5;21;01mapitable\u001b[39;00m\u001b[38;5;21;01m.\u001b[39;00m\u001b[38;5;21;01mconst\u001b[39;00m \u001b[38;5;28;01mimport\u001b[39;00m API_GET_DATASHEET_QS_SET, DEFAULT_PAGE_SIZE\n\u001b[1;32m     10\u001b[0m \u001b[38;5;28;01mfrom\u001b[39;00m \u001b[38;5;21;01mapitable\u001b[39;00m\u001b[38;5;21;01m.\u001b[39;00m\u001b[38;5;21;01mexceptions\u001b[39;00m \u001b[38;5;28;01mimport\u001b[39;00m ErrorSortParams\n\u001b[0;32m---> 11\u001b[0m \u001b[38;5;28;01mfrom\u001b[39;00m \u001b[38;5;21;01mapitable\u001b[39;00m\u001b[38;5;21;01m.\u001b[39;00m\u001b[38;5;21;01mdatasheet\u001b[39;00m\u001b[38;5;21;01m.\u001b[39;00m\u001b[38;5;21;01mfield_manager\u001b[39;00m \u001b[38;5;28;01mimport\u001b[39;00m FieldManager\n\u001b[1;32m     12\u001b[0m \u001b[38;5;28;01mfrom\u001b[39;00m \u001b[38;5;21;01mapitable\u001b[39;00m\u001b[38;5;21;01m.\u001b[39;00m\u001b[38;5;21;01mdatasheet\u001b[39;00m\u001b[38;5;21;01m.\u001b[39;00m\u001b[38;5;21;01mrecord\u001b[39;00m \u001b[38;5;28;01mimport\u001b[39;00m Record\n\u001b[1;32m     13\u001b[0m \u001b[38;5;28;01mfrom\u001b[39;00m \u001b[38;5;21;01mapitable\u001b[39;00m\u001b[38;5;21;01m.\u001b[39;00m\u001b[38;5;21;01mdatasheet\u001b[39;00m\u001b[38;5;21;01m.\u001b[39;00m\u001b[38;5;21;01mrecord_manager\u001b[39;00m \u001b[38;5;28;01mimport\u001b[39;00m RecordManager\n",
      "File \u001b[0;32m~/Library/jupyterlab-desktop/jlab_server/lib/python3.8/site-packages/apitable/datasheet/field_manager.py:2\u001b[0m\n\u001b[1;32m      1\u001b[0m \u001b[38;5;28;01mfrom\u001b[39;00m \u001b[38;5;21;01mtyping\u001b[39;00m \u001b[38;5;28;01mimport\u001b[39;00m Optional, List, Dict, Any\n\u001b[0;32m----> 2\u001b[0m \u001b[38;5;28;01mfrom\u001b[39;00m \u001b[38;5;21;01mapitable\u001b[39;00m\u001b[38;5;21;01m.\u001b[39;00m\u001b[38;5;21;01mtypes\u001b[39;00m\u001b[38;5;21;01m.\u001b[39;00m\u001b[38;5;21;01mfield\u001b[39;00m \u001b[38;5;28;01mimport\u001b[39;00m MetaField\n\u001b[1;32m      3\u001b[0m \u001b[38;5;28;01mfrom\u001b[39;00m \u001b[38;5;21;01mapitable\u001b[39;00m\u001b[38;5;21;01m.\u001b[39;00m\u001b[38;5;21;01mutils\u001b[39;00m \u001b[38;5;28;01mimport\u001b[39;00m trans_key\n\u001b[1;32m      6\u001b[0m \u001b[38;5;28;01mclass\u001b[39;00m \u001b[38;5;21;01mFieldManager\u001b[39;00m:\n",
      "File \u001b[0;32m~/Library/jupyterlab-desktop/jlab_server/lib/python3.8/site-packages/apitable/types/__init__.py:2\u001b[0m\n\u001b[1;32m      1\u001b[0m \u001b[38;5;28;01mfrom\u001b[39;00m \u001b[38;5;21;01m.\u001b[39;00m\u001b[38;5;21;01membedlink\u001b[39;00m \u001b[38;5;28;01mimport\u001b[39;00m \u001b[38;5;241m*\u001b[39m\n\u001b[0;32m----> 2\u001b[0m \u001b[38;5;28;01mfrom\u001b[39;00m \u001b[38;5;21;01m.\u001b[39;00m\u001b[38;5;21;01mfield\u001b[39;00m \u001b[38;5;28;01mimport\u001b[39;00m \u001b[38;5;241m*\u001b[39m\n\u001b[1;32m      3\u001b[0m \u001b[38;5;28;01mfrom\u001b[39;00m \u001b[38;5;21;01m.\u001b[39;00m\u001b[38;5;21;01mnode\u001b[39;00m \u001b[38;5;28;01mimport\u001b[39;00m \u001b[38;5;241m*\u001b[39m\n\u001b[1;32m      4\u001b[0m \u001b[38;5;28;01mfrom\u001b[39;00m \u001b[38;5;21;01m.\u001b[39;00m\u001b[38;5;21;01mrecord\u001b[39;00m \u001b[38;5;28;01mimport\u001b[39;00m \u001b[38;5;241m*\u001b[39m\n",
      "File \u001b[0;32m~/Library/jupyterlab-desktop/jlab_server/lib/python3.8/site-packages/apitable/types/field.py:218\u001b[0m\n\u001b[1;32m    190\u001b[0m         type_property_map \u001b[38;5;241m=\u001b[39m {\n\u001b[1;32m    191\u001b[0m             \u001b[38;5;124m\"\u001b[39m\u001b[38;5;124mSingleText\u001b[39m\u001b[38;5;124m\"\u001b[39m: SingleTextFieldProperty,\n\u001b[1;32m    192\u001b[0m             \u001b[38;5;124m\"\u001b[39m\u001b[38;5;124mText\u001b[39m\u001b[38;5;124m\"\u001b[39m: \u001b[38;5;28;01mNone\u001b[39;00m,\n\u001b[0;32m   (...)\u001b[0m\n\u001b[1;32m    213\u001b[0m             \u001b[38;5;124m\"\u001b[39m\u001b[38;5;124mLastModifiedBy\u001b[39m\u001b[38;5;124m\"\u001b[39m: LastModifiedByFieldProperty,\n\u001b[1;32m    214\u001b[0m         }\n\u001b[1;32m    215\u001b[0m         \u001b[38;5;28;01mreturn\u001b[39;00m type_property_map\u001b[38;5;241m.\u001b[39mget(\u001b[38;5;28mtype\u001b[39m, \u001b[38;5;28;01mNone\u001b[39;00m)\n\u001b[0;32m--> 218\u001b[0m \u001b[43mFieldPropertyWithDstId\u001b[49m\u001b[38;5;241;43m.\u001b[39;49m\u001b[43mmodel_rebuild\u001b[49m()\n",
      "\u001b[0;31mAttributeError\u001b[0m: type object 'FieldPropertyWithDstId' has no attribute 'model_rebuild'"
     ]
    }
   ],
   "source": [
    "from apitable import Apitable\n",
    "\n",
    "apitable = Apitable('uskEbz3EqWr2EqX8qolif6V')\n",
    "apitable.set_api_base('https://apitable.daocloud.io')\n",
    "\n",
    "dst = apitable.datasheet(\"dstgF1shMuxFH3Rzx5\")\n",
    "records = dst.records.all(viewId=\"viw3e31Cx3Pdx\")\n",
    "\n",
    "for record in records:\n",
    "  if record.json()[\"是否建群\"] == \"未建\":\n",
    "      alter_msg(\"【项目未通知】售前: {}、交付: {}、 销售: {} 申请的项目: {}， 还未建群，请尽快处理\\n\\n\".format(record.json()[\"售前\"],record.json()[\"交付\"],record.json()[\"销售\"],record.json()[\"项目名称\"]))\n",
    "      for x in record.json().items():\n",
    "        print(x)\n"
   ]
  },
  {
   "cell_type": "code",
   "execution_count": 27,
   "id": "7838edd6-b225-40c2-96e4-f1de08037e76",
   "metadata": {},
   "outputs": [],
   "source": [
    "import requests\n",
    "# import pandas as pd\n",
    "\n",
    "token = 'usk4faMS1dP8Tsr6ytchczb'\n",
    "dataset_id = 'dstgF1shMuxFH3Rzx5'\n",
    "view_id = 'viwtsyZ2JN3iv'\n",
    "\n",
    "headers = {\n",
    "    'Authorization': 'Bearer ' + token,\n",
    "}\n",
    "\n",
    "params = {\n",
    "    'viewId': view_id,\n",
    "}\n",
    "\n",
    "data = []\n",
    "\n",
    "# https://apitable.daocloud.io/fusion/v1/datasheets/dstgF1shMuxFH3Rzx5/records?viewId=viwtsyZ2JN3iv\n",
    "\n",
    "response = requests.get('https://apitable.daocloud.io/fusion/v1/datasheets/{}/records'.format(dataset_id), params=params, headers=headers)\n",
    "records = response.json()['data']['records']\n",
    "\n",
    "for record in records:\n",
    "    # data.append(record['fields'])\n",
    "    if record['fields']['是否建群'] == '未建':\n",
    "        print(record['fields']['产品支持项目名（客户名+客户侧立项名称）'])\n",
    "\n",
    "# df = pd.DataFrame(data)\n",
    "# df.to_csv('apitable.csv')\n",
    "\n",
    "import pandas as pd\n",
    "\n",
    "df = pd.DataFrame(data)\n",
    "df.to_csv(\"hello.csv\")\n",
    "\n",
    "df.all(print('for rest'))\n",
    "\n",
    "import unittest\n",
    "\n",
    "if a == b:\n",
    "    unittest();\n",
    "\n"
   ]
  },
  {
   "cell_type": "code",
   "execution_count": 22,
   "id": "ccbefb4b-307c-4502-9ce1-6dad50a45bdc",
   "metadata": {},
   "outputs": [
    {
     "name": "stdout",
     "output_type": "stream",
     "text": [
      "{'errcode': 0, 'errmsg': 'ok'}\n"
     ]
    }
   ],
   "source": [
    "import requests\n",
    "\n",
    "msg = {\n",
    "    \"msgtype\": \"text\",\n",
    "    \"text\": {\n",
    "        \"content\": \"实时新增用户反馈<font color=\\\"warning\\\">132例</font>，请相关同事注意。\\n\",\n",
    "        \"mentioned_list\": ['ZhangJing']\n",
    "    }\n",
    "}\n",
    "\n",
    "\n",
    "headers = {\n",
    "    'Content-Type': 'application/json'\n",
    "}\n",
    "\n",
    "resp = requests.post(\"https://qyapi.weixin.qq.com/cgi-bin/webhook/send?key=3fd6fa58-b5ac-41b6-8f7e-0e0c26931d65\", json=msg, headers=headers)\n",
    "\n",
    "print(resp.json())"
   ]
  },
  {
   "cell_type": "code",
   "execution_count": null,
   "id": "bba19c78-aabd-4dff-9e96-918498f5a9f1",
   "metadata": {},
   "outputs": [],
   "source": [
    "# yr,zx 录制没有声音的视屏， 异构卡、虚拟化\n",
    "# cz,kebe 需要用原型图的方式展示，可以让客户可以了解清楚，通过 API 可以在后台完成一些操作  + 录制屏幕\n",
    "    # 展示的内容, 根据现有的就可以了\n",
    "    # \n",
    "# qp Fuild 来展示对应的功能\n",
    "# fs 弄一个项目作为一次推理和训练 提供一个 ai 体验的推理应用 llama2-7b + local-AI serving ( 数据集使用）\n",
    "# gpu-beanch 测试\n",
    "\n",
    "# zhangxiao 提供一个底座环境\n",
    "# kebe 迁移集群到"
   ]
  },
  {
   "cell_type": "code",
   "execution_count": 11,
   "id": "1b380481-6876-4aa8-88c0-cbb5513b53fd",
   "metadata": {},
   "outputs": [
    {
     "ename": "SyntaxError",
     "evalue": "invalid syntax (3298011282.py, line 53)",
     "output_type": "error",
     "traceback": [
      "\u001b[0;36m  Cell \u001b[0;32mIn[11], line 53\u001b[0;36m\u001b[0m\n\u001b[0;31m    page_number += 1\u001b[0m\n\u001b[0m    ^\u001b[0m\n\u001b[0;31mSyntaxError\u001b[0m\u001b[0;31m:\u001b[0m invalid syntax\n"
     ]
    }
   ],
   "source": [
    "import requests\n",
    "\n",
    "import pandas as pd\n",
    "\n",
    "def get_data(page_number: int):\n",
    "    cookies = {\n",
    "        'sessid': '4c220d9b-8b95-43eb-a018-aabff76f879f',\n",
    "        'metabase.DEVICE': 'c81dbbcd-56dc-434c-8ef5-93cf782606fa',\n",
    "        'metabase.SESSION': '3386ed1d-eb8b-4e47-848f-ab84a1c8a620',\n",
    "        'io': 'dY8D3Xuiz0jnh5w_ACA7',\n",
    "    }\n",
    "    \n",
    "    headers = {\n",
    "        'authority': 'cs.biomerieuxcs.cn',\n",
    "        'accept': 'application/json, text/plain, */*',\n",
    "        'accept-language': 'zh-CN,zh;q=0.9,en;q=0.8',\n",
    "        'content-type': 'application/json;charset=UTF-8',\n",
    "        # Requests sorts cookies= alphabetically\n",
    "        # 'cookie': 'sessid=4c220d9b-8b95-43eb-a018-aabff76f879f; metabase.DEVICE=c81dbbcd-56dc-434c-8ef5-93cf782606fa; metabase.SESSION=3386ed1d-eb8b-4e47-848f-ab84a1c8a620; io=dY8D3Xuiz0jnh5w_ACA7',\n",
    "        'dnt': '1',\n",
    "        'origin': 'https://cs.biomerieuxcs.cn',\n",
    "        'referer': 'https://cs.biomerieuxcs.cn/letsdesk/',\n",
    "        'sec-ch-ua': '\"Not=A?Brand\";v=\"99\", \"Chromium\";v=\"118\"',\n",
    "        'sec-ch-ua-mobile': '?0',\n",
    "        'sec-ch-ua-platform': '\"macOS\"',\n",
    "        'sec-fetch-dest': 'empty',\n",
    "        'sec-fetch-mode': 'cors',\n",
    "        'sec-fetch-site': 'same-origin',\n",
    "        'user-agent': 'Mozilla/5.0 (Macintosh; Intel Mac OS X 10_15_7) AppleWebKit/537.36 (KHTML, like Gecko) Chrome/118.0.0.0 Safari/537.36',\n",
    "    }\n",
    "    \n",
    "    json_data = {\n",
    "        'pageInfo': {\n",
    "            'pageNumber': page_number,\n",
    "            'pageSize': 1000,\n",
    "        },\n",
    "    }\n",
    "\n",
    "    response = requests.post('https://cs.biomerieuxcs.cn/wsk2/console/equipment/list', cookies=cookies, headers=headers, json=json_data)\n",
    "\n",
    "    return response.json()\n",
    "\n",
    "\n",
    "def get_all_data():\n",
    "    page_number = 1\n",
    "    data = []\n",
    "\n",
    "    while True:\n",
    "        print(page_number)\n",
    "        if page_number < 55 :\n",
    "            temp = get_data(page_number)\n",
    "            data.append(temp['content']\n",
    "            page_number += 1\n",
    "            time.sleep(1)\n",
    "        else:\n",
    "            break\n",
    "\n",
    "    df = pd.DataFrame(data)\n",
    "    df.to_csv('bmx.csv')\n",
    "\n",
    "get_all_data()"
   ]
  },
  {
   "cell_type": "code",
   "execution_count": null,
   "id": "71b8f7ab-0c97-470e-9c75-40707ba613c0",
   "metadata": {},
   "outputs": [],
   "source": []
  },
  {
   "cell_type": "code",
   "execution_count": null,
   "id": "a787b0f1-0293-48c9-8d1a-8e0ce39271e9",
   "metadata": {},
   "outputs": [],
   "source": []
  }
 ],
 "metadata": {
  "kernelspec": {
   "display_name": "Python 3 (ipykernel)",
   "language": "python",
   "name": "python3"
  },
  "language_info": {
   "codemirror_mode": {
    "name": "ipython",
    "version": 3
   },
   "file_extension": ".py",
   "mimetype": "text/x-python",
   "name": "python",
   "nbconvert_exporter": "python",
   "pygments_lexer": "ipython3",
   "version": "3.8.17"
  }
 },
 "nbformat": 4,
 "nbformat_minor": 5
}
