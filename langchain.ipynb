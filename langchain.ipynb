{
 "cells": [
  {
   "cell_type": "code",
   "execution_count": 16,
   "id": "516e8b4a-b898-433d-a8ed-1b9a8283c51a",
   "metadata": {},
   "outputs": [
    {
     "name": "stdout",
     "output_type": "stream",
     "text": [
      "Requirement already satisfied: langchain in /Users/samzonglu/Library/jupyterlab-desktop/jlab_server/lib/python3.8/site-packages (0.0.324)\n",
      "Requirement already satisfied: openai in /Users/samzonglu/Library/jupyterlab-desktop/jlab_server/lib/python3.8/site-packages (0.28.1)\n",
      "Requirement already satisfied: chromadb in /Users/samzonglu/Library/jupyterlab-desktop/jlab_server/lib/python3.8/site-packages (0.4.15)\n",
      "Collecting tiktoken\n",
      "  Obtaining dependency information for tiktoken from https://files.pythonhosted.org/packages/bf/5a/d2491f94558be17493c4fb3606265a67959a2d9ecf271fd45e45727c6773/tiktoken-0.5.1-cp38-cp38-macosx_10_9_x86_64.whl.metadata\n",
      "  Downloading tiktoken-0.5.1-cp38-cp38-macosx_10_9_x86_64.whl.metadata (6.6 kB)\n",
      "Requirement already satisfied: PyYAML>=5.3 in /Users/samzonglu/Library/jupyterlab-desktop/jlab_server/lib/python3.8/site-packages (from langchain) (6.0)\n",
      "Requirement already satisfied: SQLAlchemy<3,>=1.4 in /Users/samzonglu/Library/jupyterlab-desktop/jlab_server/lib/python3.8/site-packages (from langchain) (2.0.22)\n",
      "Requirement already satisfied: aiohttp<4.0.0,>=3.8.3 in /Users/samzonglu/Library/jupyterlab-desktop/jlab_server/lib/python3.8/site-packages (from langchain) (3.8.6)\n",
      "Requirement already satisfied: anyio<4.0 in /Users/samzonglu/Library/jupyterlab-desktop/jlab_server/lib/python3.8/site-packages (from langchain) (3.7.1)\n",
      "Requirement already satisfied: async-timeout<5.0.0,>=4.0.0 in /Users/samzonglu/Library/jupyterlab-desktop/jlab_server/lib/python3.8/site-packages (from langchain) (4.0.3)\n",
      "Requirement already satisfied: dataclasses-json<0.7,>=0.5.7 in /Users/samzonglu/Library/jupyterlab-desktop/jlab_server/lib/python3.8/site-packages (from langchain) (0.6.1)\n",
      "Requirement already satisfied: jsonpatch<2.0,>=1.33 in /Users/samzonglu/Library/jupyterlab-desktop/jlab_server/lib/python3.8/site-packages (from langchain) (1.33)\n",
      "Requirement already satisfied: langsmith<0.1.0,>=0.0.52 in /Users/samzonglu/Library/jupyterlab-desktop/jlab_server/lib/python3.8/site-packages (from langchain) (0.0.52)\n",
      "Requirement already satisfied: numpy<2,>=1 in /Users/samzonglu/Library/jupyterlab-desktop/jlab_server/lib/python3.8/site-packages (from langchain) (1.24.4)\n",
      "Requirement already satisfied: pydantic<3,>=1 in /Users/samzonglu/Library/jupyterlab-desktop/jlab_server/lib/python3.8/site-packages (from langchain) (1.10.13)\n",
      "Requirement already satisfied: requests<3,>=2 in /Users/samzonglu/Library/jupyterlab-desktop/jlab_server/lib/python3.8/site-packages (from langchain) (2.31.0)\n",
      "Requirement already satisfied: tenacity<9.0.0,>=8.1.0 in /Users/samzonglu/Library/jupyterlab-desktop/jlab_server/lib/python3.8/site-packages (from langchain) (8.2.3)\n",
      "Requirement already satisfied: tqdm in /Users/samzonglu/Library/jupyterlab-desktop/jlab_server/lib/python3.8/site-packages (from openai) (4.66.1)\n",
      "Requirement already satisfied: chroma-hnswlib==0.7.3 in /Users/samzonglu/Library/jupyterlab-desktop/jlab_server/lib/python3.8/site-packages (from chromadb) (0.7.3)\n",
      "Requirement already satisfied: fastapi>=0.95.2 in /Users/samzonglu/Library/jupyterlab-desktop/jlab_server/lib/python3.8/site-packages (from chromadb) (0.104.0)\n",
      "Requirement already satisfied: uvicorn[standard]>=0.18.3 in /Users/samzonglu/Library/jupyterlab-desktop/jlab_server/lib/python3.8/site-packages (from chromadb) (0.23.2)\n",
      "Requirement already satisfied: posthog>=2.4.0 in /Users/samzonglu/Library/jupyterlab-desktop/jlab_server/lib/python3.8/site-packages (from chromadb) (3.0.2)\n",
      "Requirement already satisfied: typing-extensions>=4.5.0 in /Users/samzonglu/Library/jupyterlab-desktop/jlab_server/lib/python3.8/site-packages (from chromadb) (4.8.0)\n",
      "Requirement already satisfied: pulsar-client>=3.1.0 in /Users/samzonglu/Library/jupyterlab-desktop/jlab_server/lib/python3.8/site-packages (from chromadb) (3.3.0)\n",
      "Requirement already satisfied: onnxruntime>=1.14.1 in /Users/samzonglu/Library/jupyterlab-desktop/jlab_server/lib/python3.8/site-packages (from chromadb) (1.16.1)\n",
      "Requirement already satisfied: opentelemetry-api>=1.2.0 in /Users/samzonglu/Library/jupyterlab-desktop/jlab_server/lib/python3.8/site-packages (from chromadb) (1.20.0)\n",
      "Requirement already satisfied: opentelemetry-exporter-otlp-proto-grpc>=1.2.0 in /Users/samzonglu/Library/jupyterlab-desktop/jlab_server/lib/python3.8/site-packages (from chromadb) (1.20.0)\n",
      "Requirement already satisfied: opentelemetry-sdk>=1.2.0 in /Users/samzonglu/Library/jupyterlab-desktop/jlab_server/lib/python3.8/site-packages (from chromadb) (1.20.0)\n",
      "Requirement already satisfied: tokenizers>=0.13.2 in /Users/samzonglu/Library/jupyterlab-desktop/jlab_server/lib/python3.8/site-packages (from chromadb) (0.14.1)\n",
      "Requirement already satisfied: pypika>=0.48.9 in /Users/samzonglu/Library/jupyterlab-desktop/jlab_server/lib/python3.8/site-packages (from chromadb) (0.48.9)\n",
      "Requirement already satisfied: overrides>=7.3.1 in /Users/samzonglu/Library/jupyterlab-desktop/jlab_server/lib/python3.8/site-packages (from chromadb) (7.4.0)\n",
      "Requirement already satisfied: importlib-resources in /Users/samzonglu/Library/jupyterlab-desktop/jlab_server/lib/python3.8/site-packages (from chromadb) (6.0.1)\n",
      "Requirement already satisfied: grpcio>=1.58.0 in /Users/samzonglu/Library/jupyterlab-desktop/jlab_server/lib/python3.8/site-packages (from chromadb) (1.59.0)\n",
      "Requirement already satisfied: bcrypt>=4.0.1 in /Users/samzonglu/Library/jupyterlab-desktop/jlab_server/lib/python3.8/site-packages (from chromadb) (4.0.1)\n",
      "Requirement already satisfied: typer>=0.9.0 in /Users/samzonglu/Library/jupyterlab-desktop/jlab_server/lib/python3.8/site-packages (from chromadb) (0.9.0)\n",
      "Requirement already satisfied: kubernetes>=28.1.0 in /Users/samzonglu/Library/jupyterlab-desktop/jlab_server/lib/python3.8/site-packages (from chromadb) (28.1.0)\n",
      "Requirement already satisfied: graphlib-backport>=1.0.3 in /Users/samzonglu/Library/jupyterlab-desktop/jlab_server/lib/python3.8/site-packages (from chromadb) (1.0.3)\n",
      "Collecting regex>=2022.1.18 (from tiktoken)\n",
      "  Obtaining dependency information for regex>=2022.1.18 from https://files.pythonhosted.org/packages/25/62/2fb4e702f6c1afdc647c1313f54494a6647d3f8b9c76877b6cd82d280f04/regex-2023.10.3-cp38-cp38-macosx_10_9_x86_64.whl.metadata\n",
      "  Downloading regex-2023.10.3-cp38-cp38-macosx_10_9_x86_64.whl.metadata (40 kB)\n",
      "\u001b[2K     \u001b[90m━━━━━━━━━━━━━━━━━━━━━━━━━━━━━━━━━━━━━━━\u001b[0m \u001b[32m40.9/40.9 kB\u001b[0m \u001b[31m328.2 kB/s\u001b[0m eta \u001b[36m0:00:00\u001b[0ma \u001b[36m0:00:01\u001b[0m\n",
      "\u001b[?25hRequirement already satisfied: attrs>=17.3.0 in /Users/samzonglu/Library/jupyterlab-desktop/jlab_server/lib/python3.8/site-packages (from aiohttp<4.0.0,>=3.8.3->langchain) (23.1.0)\n",
      "Requirement already satisfied: charset-normalizer<4.0,>=2.0 in /Users/samzonglu/Library/jupyterlab-desktop/jlab_server/lib/python3.8/site-packages (from aiohttp<4.0.0,>=3.8.3->langchain) (3.2.0)\n",
      "Requirement already satisfied: multidict<7.0,>=4.5 in /Users/samzonglu/Library/jupyterlab-desktop/jlab_server/lib/python3.8/site-packages (from aiohttp<4.0.0,>=3.8.3->langchain) (6.0.4)\n",
      "Requirement already satisfied: yarl<2.0,>=1.0 in /Users/samzonglu/Library/jupyterlab-desktop/jlab_server/lib/python3.8/site-packages (from aiohttp<4.0.0,>=3.8.3->langchain) (1.9.2)\n",
      "Requirement already satisfied: frozenlist>=1.1.1 in /Users/samzonglu/Library/jupyterlab-desktop/jlab_server/lib/python3.8/site-packages (from aiohttp<4.0.0,>=3.8.3->langchain) (1.4.0)\n",
      "Requirement already satisfied: aiosignal>=1.1.2 in /Users/samzonglu/Library/jupyterlab-desktop/jlab_server/lib/python3.8/site-packages (from aiohttp<4.0.0,>=3.8.3->langchain) (1.3.1)\n",
      "Requirement already satisfied: idna>=2.8 in /Users/samzonglu/Library/jupyterlab-desktop/jlab_server/lib/python3.8/site-packages (from anyio<4.0->langchain) (3.4)\n",
      "Requirement already satisfied: sniffio>=1.1 in /Users/samzonglu/Library/jupyterlab-desktop/jlab_server/lib/python3.8/site-packages (from anyio<4.0->langchain) (1.3.0)\n",
      "Requirement already satisfied: exceptiongroup in /Users/samzonglu/Library/jupyterlab-desktop/jlab_server/lib/python3.8/site-packages (from anyio<4.0->langchain) (1.1.3)\n",
      "Requirement already satisfied: marshmallow<4.0.0,>=3.18.0 in /Users/samzonglu/Library/jupyterlab-desktop/jlab_server/lib/python3.8/site-packages (from dataclasses-json<0.7,>=0.5.7->langchain) (3.20.1)\n",
      "Requirement already satisfied: typing-inspect<1,>=0.4.0 in /Users/samzonglu/Library/jupyterlab-desktop/jlab_server/lib/python3.8/site-packages (from dataclasses-json<0.7,>=0.5.7->langchain) (0.9.0)\n",
      "Requirement already satisfied: starlette<0.28.0,>=0.27.0 in /Users/samzonglu/Library/jupyterlab-desktop/jlab_server/lib/python3.8/site-packages (from fastapi>=0.95.2->chromadb) (0.27.0)\n",
      "Requirement already satisfied: jsonpointer>=1.9 in /Users/samzonglu/Library/jupyterlab-desktop/jlab_server/lib/python3.8/site-packages (from jsonpatch<2.0,>=1.33->langchain) (2.0)\n",
      "Requirement already satisfied: certifi>=14.05.14 in /Users/samzonglu/Library/jupyterlab-desktop/jlab_server/lib/python3.8/site-packages (from kubernetes>=28.1.0->chromadb) (2023.7.22)\n",
      "Requirement already satisfied: six>=1.9.0 in /Users/samzonglu/Library/jupyterlab-desktop/jlab_server/lib/python3.8/site-packages (from kubernetes>=28.1.0->chromadb) (1.16.0)\n",
      "Requirement already satisfied: python-dateutil>=2.5.3 in /Users/samzonglu/Library/jupyterlab-desktop/jlab_server/lib/python3.8/site-packages (from kubernetes>=28.1.0->chromadb) (2.8.2)\n",
      "Requirement already satisfied: google-auth>=1.0.1 in /Users/samzonglu/Library/jupyterlab-desktop/jlab_server/lib/python3.8/site-packages (from kubernetes>=28.1.0->chromadb) (2.23.3)\n",
      "Requirement already satisfied: websocket-client!=0.40.0,!=0.41.*,!=0.42.*,>=0.32.0 in /Users/samzonglu/Library/jupyterlab-desktop/jlab_server/lib/python3.8/site-packages (from kubernetes>=28.1.0->chromadb) (1.6.1)\n",
      "Requirement already satisfied: requests-oauthlib in /Users/samzonglu/Library/jupyterlab-desktop/jlab_server/lib/python3.8/site-packages (from kubernetes>=28.1.0->chromadb) (1.3.1)\n",
      "Requirement already satisfied: oauthlib>=3.2.2 in /Users/samzonglu/Library/jupyterlab-desktop/jlab_server/lib/python3.8/site-packages (from kubernetes>=28.1.0->chromadb) (3.2.2)\n",
      "Requirement already satisfied: urllib3<2.0,>=1.24.2 in /Users/samzonglu/Library/jupyterlab-desktop/jlab_server/lib/python3.8/site-packages (from kubernetes>=28.1.0->chromadb) (1.26.18)\n",
      "Requirement already satisfied: coloredlogs in /Users/samzonglu/Library/jupyterlab-desktop/jlab_server/lib/python3.8/site-packages (from onnxruntime>=1.14.1->chromadb) (15.0.1)\n",
      "Requirement already satisfied: flatbuffers in /Users/samzonglu/Library/jupyterlab-desktop/jlab_server/lib/python3.8/site-packages (from onnxruntime>=1.14.1->chromadb) (23.5.26)\n",
      "Requirement already satisfied: packaging in /Users/samzonglu/Library/jupyterlab-desktop/jlab_server/lib/python3.8/site-packages (from onnxruntime>=1.14.1->chromadb) (23.1)\n",
      "Requirement already satisfied: protobuf in /Users/samzonglu/Library/jupyterlab-desktop/jlab_server/lib/python3.8/site-packages (from onnxruntime>=1.14.1->chromadb) (4.24.4)\n",
      "Requirement already satisfied: sympy in /Users/samzonglu/Library/jupyterlab-desktop/jlab_server/lib/python3.8/site-packages (from onnxruntime>=1.14.1->chromadb) (1.12)\n",
      "Requirement already satisfied: deprecated>=1.2.6 in /Users/samzonglu/Library/jupyterlab-desktop/jlab_server/lib/python3.8/site-packages (from opentelemetry-api>=1.2.0->chromadb) (1.2.14)\n",
      "Requirement already satisfied: importlib-metadata<7.0,>=6.0 in /Users/samzonglu/Library/jupyterlab-desktop/jlab_server/lib/python3.8/site-packages (from opentelemetry-api>=1.2.0->chromadb) (6.8.0)\n",
      "Requirement already satisfied: backoff<3.0.0,>=1.10.0 in /Users/samzonglu/Library/jupyterlab-desktop/jlab_server/lib/python3.8/site-packages (from opentelemetry-exporter-otlp-proto-grpc>=1.2.0->chromadb) (2.2.1)\n",
      "Requirement already satisfied: googleapis-common-protos~=1.52 in /Users/samzonglu/Library/jupyterlab-desktop/jlab_server/lib/python3.8/site-packages (from opentelemetry-exporter-otlp-proto-grpc>=1.2.0->chromadb) (1.61.0)\n",
      "Requirement already satisfied: opentelemetry-exporter-otlp-proto-common==1.20.0 in /Users/samzonglu/Library/jupyterlab-desktop/jlab_server/lib/python3.8/site-packages (from opentelemetry-exporter-otlp-proto-grpc>=1.2.0->chromadb) (1.20.0)\n",
      "Requirement already satisfied: opentelemetry-proto==1.20.0 in /Users/samzonglu/Library/jupyterlab-desktop/jlab_server/lib/python3.8/site-packages (from opentelemetry-exporter-otlp-proto-grpc>=1.2.0->chromadb) (1.20.0)\n",
      "Requirement already satisfied: opentelemetry-semantic-conventions==0.41b0 in /Users/samzonglu/Library/jupyterlab-desktop/jlab_server/lib/python3.8/site-packages (from opentelemetry-sdk>=1.2.0->chromadb) (0.41b0)\n",
      "Requirement already satisfied: monotonic>=1.5 in /Users/samzonglu/Library/jupyterlab-desktop/jlab_server/lib/python3.8/site-packages (from posthog>=2.4.0->chromadb) (1.6)\n",
      "Requirement already satisfied: greenlet!=0.4.17 in /Users/samzonglu/Library/jupyterlab-desktop/jlab_server/lib/python3.8/site-packages (from SQLAlchemy<3,>=1.4->langchain) (3.0.1)\n",
      "Requirement already satisfied: huggingface_hub<0.18,>=0.16.4 in /Users/samzonglu/Library/jupyterlab-desktop/jlab_server/lib/python3.8/site-packages (from tokenizers>=0.13.2->chromadb) (0.17.3)\n",
      "Requirement already satisfied: click<9.0.0,>=7.1.1 in /Users/samzonglu/Library/jupyterlab-desktop/jlab_server/lib/python3.8/site-packages (from typer>=0.9.0->chromadb) (8.1.7)\n",
      "Requirement already satisfied: h11>=0.8 in /Users/samzonglu/Library/jupyterlab-desktop/jlab_server/lib/python3.8/site-packages (from uvicorn[standard]>=0.18.3->chromadb) (0.14.0)\n",
      "Requirement already satisfied: httptools>=0.5.0 in /Users/samzonglu/Library/jupyterlab-desktop/jlab_server/lib/python3.8/site-packages (from uvicorn[standard]>=0.18.3->chromadb) (0.6.1)\n",
      "Requirement already satisfied: python-dotenv>=0.13 in /Users/samzonglu/Library/jupyterlab-desktop/jlab_server/lib/python3.8/site-packages (from uvicorn[standard]>=0.18.3->chromadb) (1.0.0)\n",
      "Requirement already satisfied: uvloop!=0.15.0,!=0.15.1,>=0.14.0 in /Users/samzonglu/Library/jupyterlab-desktop/jlab_server/lib/python3.8/site-packages (from uvicorn[standard]>=0.18.3->chromadb) (0.19.0)\n",
      "Requirement already satisfied: watchfiles>=0.13 in /Users/samzonglu/Library/jupyterlab-desktop/jlab_server/lib/python3.8/site-packages (from uvicorn[standard]>=0.18.3->chromadb) (0.21.0)\n",
      "Requirement already satisfied: websockets>=10.4 in /Users/samzonglu/Library/jupyterlab-desktop/jlab_server/lib/python3.8/site-packages (from uvicorn[standard]>=0.18.3->chromadb) (11.0.3)\n",
      "Requirement already satisfied: zipp>=3.1.0 in /Users/samzonglu/Library/jupyterlab-desktop/jlab_server/lib/python3.8/site-packages (from importlib-resources->chromadb) (3.16.2)\n",
      "Requirement already satisfied: wrapt<2,>=1.10 in /Users/samzonglu/Library/jupyterlab-desktop/jlab_server/lib/python3.8/site-packages (from deprecated>=1.2.6->opentelemetry-api>=1.2.0->chromadb) (1.15.0)\n",
      "Requirement already satisfied: cachetools<6.0,>=2.0.0 in /Users/samzonglu/Library/jupyterlab-desktop/jlab_server/lib/python3.8/site-packages (from google-auth>=1.0.1->kubernetes>=28.1.0->chromadb) (5.3.1)\n",
      "Requirement already satisfied: pyasn1-modules>=0.2.1 in /Users/samzonglu/Library/jupyterlab-desktop/jlab_server/lib/python3.8/site-packages (from google-auth>=1.0.1->kubernetes>=28.1.0->chromadb) (0.3.0)\n",
      "Requirement already satisfied: rsa<5,>=3.1.4 in /Users/samzonglu/Library/jupyterlab-desktop/jlab_server/lib/python3.8/site-packages (from google-auth>=1.0.1->kubernetes>=28.1.0->chromadb) (4.9)\n",
      "Requirement already satisfied: filelock in /Users/samzonglu/Library/jupyterlab-desktop/jlab_server/lib/python3.8/site-packages (from huggingface_hub<0.18,>=0.16.4->tokenizers>=0.13.2->chromadb) (3.12.4)\n",
      "Requirement already satisfied: fsspec in /Users/samzonglu/Library/jupyterlab-desktop/jlab_server/lib/python3.8/site-packages (from huggingface_hub<0.18,>=0.16.4->tokenizers>=0.13.2->chromadb) (2023.10.0)\n",
      "Requirement already satisfied: mypy-extensions>=0.3.0 in /Users/samzonglu/Library/jupyterlab-desktop/jlab_server/lib/python3.8/site-packages (from typing-inspect<1,>=0.4.0->dataclasses-json<0.7,>=0.5.7->langchain) (1.0.0)\n",
      "Requirement already satisfied: humanfriendly>=9.1 in /Users/samzonglu/Library/jupyterlab-desktop/jlab_server/lib/python3.8/site-packages (from coloredlogs->onnxruntime>=1.14.1->chromadb) (10.0)\n",
      "Requirement already satisfied: mpmath>=0.19 in /Users/samzonglu/Library/jupyterlab-desktop/jlab_server/lib/python3.8/site-packages (from sympy->onnxruntime>=1.14.1->chromadb) (1.3.0)\n",
      "Requirement already satisfied: pyasn1<0.6.0,>=0.4.6 in /Users/samzonglu/Library/jupyterlab-desktop/jlab_server/lib/python3.8/site-packages (from pyasn1-modules>=0.2.1->google-auth>=1.0.1->kubernetes>=28.1.0->chromadb) (0.5.0)\n",
      "Downloading tiktoken-0.5.1-cp38-cp38-macosx_10_9_x86_64.whl (953 kB)\n",
      "\u001b[2K   \u001b[90m━━━━━━━━━━━━━━━━━━━━━━━━━━━━━━━━━━━━━━━━\u001b[0m \u001b[32m953.9/953.9 kB\u001b[0m \u001b[31m2.4 MB/s\u001b[0m eta \u001b[36m0:00:00\u001b[0ma \u001b[36m0:00:01\u001b[0mm\n",
      "\u001b[?25hDownloading regex-2023.10.3-cp38-cp38-macosx_10_9_x86_64.whl (296 kB)\n",
      "\u001b[2K   \u001b[90m━━━━━━━━━━━━━━━━━━━━━━━━━━━━━━━━━━━━━━━━\u001b[0m \u001b[32m296.3/296.3 kB\u001b[0m \u001b[31m20.1 MB/s\u001b[0m eta \u001b[36m0:00:00\u001b[0m\n",
      "\u001b[?25hInstalling collected packages: regex, tiktoken\n",
      "Successfully installed regex-2023.10.3 tiktoken-0.5.1\n"
     ]
    }
   ],
   "source": [
    "! pip install langchain openai chromadb tiktoken"
   ]
  },
  {
   "cell_type": "code",
   "execution_count": 10,
   "id": "cacc7227-800f-4d61-baba-11b442294cbf",
   "metadata": {},
   "outputs": [
    {
     "data": {
      "text/plain": [
       "[Document(page_content=' 什么是服务网格 - DaoCloud Enterprise       跳转至       DaoCloud 第五代产品全新上线咯！点击链接，免费体验！                 DaoCloud Enterprise     什么是服务网格                             简体中文     English                                 正在初始化搜索引擎              DaoCloud/DaoCloud-docs          DaoCloud 官网     产品文档     视频教程     下载中心     免费体验     博客     DaoCloud 开源生态     云原生研究院     OpenAPI 文档                  DaoCloud Enterprise        DaoCloud/DaoCloud-docs        DaoCloud 官网        产品文档       产品文档      首页       云原生启航        安装       安装      产品介绍        安装教程            工作台       工作台      应用工作台            容器       容器      容器管理        多云编排        镜像仓库        云原生网络        云原生存储        虚拟机容器            可观测       可观测      可观测性            微服务       微服务      微服务引擎         服务网格       服务网格       介绍       介绍       什么是服务网格      什么是服务网格      导航      产品优势       学习路径          功能总览       适用场景       服务网格权限说明       服务网格应用接入规范       系统组件及架构        常见问题       Release Notes          安装、配置和升级        创建/删除网格        服务管理        流量治理        安全治理        边车管理        流量监控        集群纳管        网格网关        网格配置        测试        故障排查        最佳实践               数据服务       数据服务      中间件            边缘计算       边缘计算      云边协同            管理       管理      全局管理               视频教程       视频教程      索引        入门       入门      安装教程       场景化视频           工作台       工作台      应用工作台           容器       容器      容器管理       多云编排       镜像仓库       容器网络           可观测       可观测      可观测性           微服务       微服务      微服务引擎       服务网格           数据服务       数据服务      中间件           边缘计算       边缘计算      云边协同           管理       管理      全局管理              下载中心       下载中心       DaoCloud Enterprise 5.0       DaoCloud Enterprise 5.0      导览页       下载 DCE 5.0 社区版       下载 DCE 5.0 商业版       下载 Addon 离线包       下载子模块               免费体验       免费体验      体验社区版           博客       博客      博文索引       202310 | 上海 K8s 贡献者峰会回顾       202309 | 上海 K8s 贡献者峰会召集令       202308 | K8s 本地开发工具比较       202308 | K8s 1.28 震撼发布         202308 | K8sGPT 赋能 K8s       202306 | AIGC 利器 Ray 探索下篇       202306 | AIGC 利器 Ray 探索上篇       202306 | Istio 1.18 正式发布       202306 | 联邦中间件FedState       202306 | API Server Tracing进阶       202305 | 边缘场景玩转seccomp       202305 | 混沌工程Chaos Mesh       202305 | K8s 安装教程(KLTS版)       202305 | Cilium实现socket加速       202305 | K8s 1.27加快Pod启动       202304 | 云原生监控之基础篇       202304 | Karmada Failover详解       202304 | CNCF 平台工程白皮书       202304 | K8s 1.27 正式发布       202304 | 固定应用 IP 的新选择       202304 | 保姆式安装社区版       202303 | 边缘原生应用准则       202303 | Linux 单机安装社区版       202303 | macOS 单机安装社区版       202303 | KWOK 介绍       202302 | 社区版涉及的开源项目       202302 | DaoCloud 与 K8s       202302 | DCE 5.0 攻坚语录集       202301 | 2023 年云原生预测       202301 | 让闲置算力跑起来       202212 | K8s 1.26 正式发布       202211 | K8s 资深认证服务商       202210 | 容器管理能力介绍       202210 | 资源管理能力介绍       202209 | 应用工作台能力介绍       202208 | 多云编排能力介绍       202207 | 服务网格能力介绍       202206 | DCE 开发背景           DaoCloud 开源生态       DaoCloud 开源生态      开源项目索引       CloudTTY       Clusterpedia       egressgateway       Fast       FedState       Ferry       HwameiStor       kdoctor       KLTS       Kubean       KWOK       MirageDebug       Merbridge       Spiderpool       公开镜像加速       DaoCloud 开源图标库           云原生研究院       云原生研究院       社区要闻       社区要闻      2023 云原生社区要闻       2022 云原生社区要闻           行业洞察       行业洞察      商业产品       开源项目           知识分享       知识分享      索引       排障方案       最佳实践       工具推荐       产品选型       前沿热点       安全漏洞       电子书       其他              OpenAPI 文档       OpenAPI 文档      OpenAPI 文档索引        应用工作台 OpenAPI       应用工作台 OpenAPI      v0.109.1       v0.110.0       v0.111.x        v0.112.0           容器管理 OpenAPI       容器管理 OpenAPI      v0.18.x        v0.19.0       v0.20.x        v0.21.1           多云编排 OpenAPI       多云编排 OpenAPI      v0.8.0       v0.9.0       v0.10.x        v0.11.x        v0.12.0           镜像仓库 OpenAPI       镜像仓库 OpenAPI      v0.8.0       v0.9.1       v0.10.x        v0.11.0           网络 OpenAPI       网络 OpenAPI      v0.5.0       v0.6.0       v0.7.0       v0.8.x        v0.9.0           可观测性 OpenAPI       可观测性 OpenAPI      v0.16.0       v0.17.x        v0.18.x        v0.19.x        v0.20.0           微服务引擎 OpenAPI       微服务引擎 OpenAPI      v0.22.x        v0.23.0       v0.24.x        v0.25.0       v0.26.x        v0.27.x            服务网格 OpenAPI       服务网格 OpenAPI      v0.105.1       v0.106.2       v0.108.3       v0.109.0           中间件 OpenAPI       中间件 OpenAPI      Index       Elasticsearch OpenAPI        Kafka OpenAPI        MinIO OpenAPI        MongoDB OpenAPI        MySQL OpenAPI        PostgreSQL OpenAPI        RabbitMQ OpenAPI        Redis OpenAPI            全局管理 OpenAPI       全局管理 OpenAPI      v0.15.0       v0.16.x        v0.17.x        v0.18.x        v0.19.0       v0.20.x                      导航      产品优势       学习路径               产品文档       微服务       服务网格       介绍                什么是服务网格¶ 服务网格是基于 Istio 开源技术构建的面向云原生应用的下一代服务网格。 服务网格是一种具备高性能、高易用性的全托管服务网格产品，通过提供完整的非侵入式的微服务治理方案，能够统一治理多云多集群的复杂环境， 以基础设施的方式为用户提供服务流量治理、安全性治理、服务流量监控、以及传统微服务（SpringCloud、Dubbo）接入。 DCE 5.0 的服务网格兼容社区原生 Istio 开源服务网格，提供原生 Istio 接入管理能力。在较高的层次上，服务网格有助于降低服务治理的复杂性，减轻开发运维团队的压力。 服务网格作为 DCE 5.0 产品的体系一员，无缝对接容器管理平台，可以为用户提供开箱即用的上手体验， 并作为基础设施为微服务引擎提供容器微服务治理支持，方便用户通过单一平台对各类微服务系统做统一管理。 产品优势¶ DCE 5.0 服务网格相比其他产品具备以下优势：   简单易用 无需修改任何业务代码，也无需手动安装代理，只需开启服务网格功能，即可体验丰富的无侵入服务治理能力。   策略化的智能路由与弹性流量管理 支持为服务配置负载均衡、服务路由、故障注入、离群检测等治理规则。 结合一站式治理系统；提供实时的、可视化的微服务流量管理； 支持无侵入智能流量治理，应用无需任何改造，即可进行动态的智能路由和弹性流量管理。  权重、内容、TCP/IP 等路由规则。 HTTP 会话保持，满足业务处理持续性诉求。 限流、离群检测，实现服务间链路稳定、可靠。 网络长连接管理降低资源损耗，提升网络吞吐量。 服务安全认证：认证、鉴权、审计等，提供服务安全保障基石。    图形化应用全景拓扑，流量治理可视化 服务网格提供了可视化的流量监控，包括链路信息、服务异常响应、超长响应时延等信息，通过图表以及拓扑等多样化形式全面展现业务运行情况。 服务网格可以结合应用运维管理、应用性能管理服务，提供详细的微服务级流量监控、异常响应流量报告以及调用链信息，能够更快速、更准确的定位问题。   性能增强，可靠性增强 服务网格控制面和数据面基于社区版本的基础上进行更可靠的加固和性能优化。   多云多集群、多基础设施 提供免运维的托管控制面，提供多云多集群的全局统一的服务治理、安全和服务运行监控能力，还提供对容器和虚拟机（VM） 等多种基础设施的统一服务发现和管理。   协议扩展 扩展 Dubbo 协议的支持。   传统 SDK 集成 提供 Spring Cloud、Dubbo 等传统微服务 SDK 的集成解决方案，传统微服务 SDK 开发的业务无需大量代码改造即可快速迁移到云原生容网格运行环境上运行。   学习路径¶ 服务网格的学习路径如下： flowchart TD\\n\\n    install([安装部署])\\n    install --> mesh[创建网格]\\n        subgraph mesh[创建网格]\\n            managed[托管网格]\\n            private[专有网格]\\n            external[外接网格]\\n\\n        end\\n\\n    mesh --> cluster[纳管集群]\\n\\n    cluster --> inject[注入边车]\\n\\n        subgraph inject[注入边车]\\n            namespace[命名空间注入]\\n            workload[工作负载注入]\\n        end\\n\\n\\n    inject -.-> service[服务管理]\\n    inject -.-> traffic[流量治理]\\n    inject -.-> security[安全治理]\\n    inject -.-> sidecar[边车管理]\\n    inject -.-> watch[流量监控]\\n    inject -.-> gateway[网格网关]\\n    inject -.-> upgrade[版本升级]\\n\\n\\n    service -.-> entry[服务条目<br>一键修复]\\n    traffic -.-> virtual[虚拟服务<br>目标规则<br>网关规则]\\n    security -.-> peer[对等身份认证<br>请求身份认证<br>授权策略]\\n    sidecar -.-> sidecarm[命名空间边车管理<br>工作负载边车管理<br>边车流量透传]\\n    watch -.-> watch2[流量监控<br>流量拓扑]\\n    upgrade -.-> upgrade1[Istio 升级<br>边车升级]\\n\\n    classDef plain fill:#ddd,stroke:#fff,stroke-width:1px,color:#000;\\n    classDef k8s fill:#326ce5,stroke:#fff,stroke-width:1px,color:#fff;\\n    classDef cluster fill:#fff,stroke:#bbb,stroke-width:1px,color:#326ce5;\\n\\n    class mesh plain\\n    class install,service,gateway,traffic,watch,upgrade,security,entry,virtual,peer,cluster,sidecar,sidecarm,watch2,managed,private,external,namespace,workload,upgrade1 cluster\\n\\n    click install \"https://docs.daocloud.io/mspider/install/install/\"\\n    click managed \"https://docs.daocloud.io/mspider/user-guide/service-mesh/\"\\n    click private \"https://docs.daocloud.io/mspider/user-guide/service-mesh/\"\\n    click external \"https://docs.daocloud.io/mspider/user-guide/service-mesh/external-mesh/\"\\n    click cluster \"https://docs.daocloud.io/mspider/user-guide/cluster-management/join-clus/\"\\n    click global \"https://docs.daocloud.io/mspider/user-guide/sidecar-management/global-sidecar/\"\\n    click namespace \"https://docs.daocloud.io/mspider/user-guide/sidecar-management/ns-sidecar/\"\\n    click workload \"https://docs.daocloud.io/mspider/user-guide/sidecar-management/workload-sidecar/\"\\n    click gateway \"https://docs.daocloud.io/mspider/user-guide/gateway-instance/create/\"\\n    click service \"https://docs.daocloud.io/mspider/user-guide/service-list/\"\\n    click traffic \"https://docs.daocloud.io/mspider/user-guide/traffic-governance/\"\\n    click security \"https://docs.daocloud.io/mspider/user-guide/security/\"\\n    click watch \"https://docs.daocloud.io/mspider/user-guide/traffic-monitor/\"\\n    click upgrade \"https://docs.daocloud.io/mspider/user-guide/upgrade/istio-update/\"\\n    click entry \"https://docs.daocloud.io/mspider/user-guide/service-list/service-entry/\"\\n    click virtual \"https://docs.daocloud.io/mspider/user-guide/traffic-governance/virtual-service/\"\\n    click peer \"https://docs.daocloud.io/mspider/user-guide/security/peer/\"\\n    click sidecar \"https://docs.daocloud.io/mspider/user-guide/sidecar-management/ns-sidecar/\"\\n    click sidecarm \"https://docs.daocloud.io/mspider/user-guide/sidecar-management/passthrough/\"\\n    click watch2 \"https://docs.daocloud.io/mspider/user-guide/traffic-monitor/conn-topo/\" 下载 DCE 5.0 安装 DCE 5.0 申请社区免费体验 评论         回到页面顶部        Copyright © 2016 - 2023 DaoCloud                 ', metadata={'source': 'https://docs.daocloud.io/mspider/intro/index.html', 'title': '什么是服务网格 - DaoCloud Enterprise', 'description': 'DaoCloud Enterprise 5.0 下一代容器化平台集大成者，引领云原生浪潮，推动数字化转型。', 'language': 'zh'}),\n",
       " Document(page_content=' 功能总览 - DaoCloud Enterprise       跳转至       DaoCloud 第五代产品全新上线咯！点击链接，免费体验！                 DaoCloud Enterprise     功能总览                             简体中文     English                                 正在初始化搜索引擎              DaoCloud/DaoCloud-docs          DaoCloud 官网     产品文档     视频教程     下载中心     免费体验     博客     DaoCloud 开源生态     云原生研究院     OpenAPI 文档                  DaoCloud Enterprise        DaoCloud/DaoCloud-docs        DaoCloud 官网        产品文档       产品文档      首页       云原生启航        安装       安装      产品介绍        安装教程            工作台       工作台      应用工作台            容器       容器      容器管理        多云编排        镜像仓库        云原生网络        云原生存储        虚拟机容器            可观测       可观测      可观测性            微服务       微服务      微服务引擎         服务网格       服务网格       介绍       介绍      什么是服务网格        功能总览      功能总览      导航      流量治理       安全       可观测性       多集群模式       网格数据面微服务框架       兼容性和扩展          适用场景       服务网格权限说明       服务网格应用接入规范       系统组件及架构        常见问题       Release Notes          安装、配置和升级        创建/删除网格        服务管理        流量治理        安全治理        边车管理        流量监控        集群纳管        网格网关        网格配置        测试        故障排查        最佳实践               数据服务       数据服务      中间件            边缘计算       边缘计算      云边协同            管理       管理      全局管理               视频教程       视频教程      索引        入门       入门      安装教程       场景化视频           工作台       工作台      应用工作台           容器       容器      容器管理       多云编排       镜像仓库       容器网络           可观测       可观测      可观测性           微服务       微服务      微服务引擎       服务网格           数据服务       数据服务      中间件           边缘计算       边缘计算      云边协同           管理       管理      全局管理              下载中心       下载中心       DaoCloud Enterprise 5.0       DaoCloud Enterprise 5.0      导览页       下载 DCE 5.0 社区版       下载 DCE 5.0 商业版       下载 Addon 离线包       下载子模块               免费体验       免费体验      体验社区版           博客       博客      博文索引       202310 | 上海 K8s 贡献者峰会回顾       202309 | 上海 K8s 贡献者峰会召集令       202308 | K8s 本地开发工具比较       202308 | K8s 1.28 震撼发布         202308 | K8sGPT 赋能 K8s       202306 | AIGC 利器 Ray 探索下篇       202306 | AIGC 利器 Ray 探索上篇       202306 | Istio 1.18 正式发布       202306 | 联邦中间件FedState       202306 | API Server Tracing进阶       202305 | 边缘场景玩转seccomp       202305 | 混沌工程Chaos Mesh       202305 | K8s 安装教程(KLTS版)       202305 | Cilium实现socket加速       202305 | K8s 1.27加快Pod启动       202304 | 云原生监控之基础篇       202304 | Karmada Failover详解       202304 | CNCF 平台工程白皮书       202304 | K8s 1.27 正式发布       202304 | 固定应用 IP 的新选择       202304 | 保姆式安装社区版       202303 | 边缘原生应用准则       202303 | Linux 单机安装社区版       202303 | macOS 单机安装社区版       202303 | KWOK 介绍       202302 | 社区版涉及的开源项目       202302 | DaoCloud 与 K8s       202302 | DCE 5.0 攻坚语录集       202301 | 2023 年云原生预测       202301 | 让闲置算力跑起来       202212 | K8s 1.26 正式发布       202211 | K8s 资深认证服务商       202210 | 容器管理能力介绍       202210 | 资源管理能力介绍       202209 | 应用工作台能力介绍       202208 | 多云编排能力介绍       202207 | 服务网格能力介绍       202206 | DCE 开发背景           DaoCloud 开源生态       DaoCloud 开源生态      开源项目索引       CloudTTY       Clusterpedia       egressgateway       Fast       FedState       Ferry       HwameiStor       kdoctor       KLTS       Kubean       KWOK       MirageDebug       Merbridge       Spiderpool       公开镜像加速       DaoCloud 开源图标库           云原生研究院       云原生研究院       社区要闻       社区要闻      2023 云原生社区要闻       2022 云原生社区要闻           行业洞察       行业洞察      商业产品       开源项目           知识分享       知识分享      索引       排障方案       最佳实践       工具推荐       产品选型       前沿热点       安全漏洞       电子书       其他              OpenAPI 文档       OpenAPI 文档      OpenAPI 文档索引        应用工作台 OpenAPI       应用工作台 OpenAPI      v0.109.1       v0.110.0       v0.111.x        v0.112.0           容器管理 OpenAPI       容器管理 OpenAPI      v0.18.x        v0.19.0       v0.20.x        v0.21.1           多云编排 OpenAPI       多云编排 OpenAPI      v0.8.0       v0.9.0       v0.10.x        v0.11.x        v0.12.0           镜像仓库 OpenAPI       镜像仓库 OpenAPI      v0.8.0       v0.9.1       v0.10.x        v0.11.0           网络 OpenAPI       网络 OpenAPI      v0.5.0       v0.6.0       v0.7.0       v0.8.x        v0.9.0           可观测性 OpenAPI       可观测性 OpenAPI      v0.16.0       v0.17.x        v0.18.x        v0.19.x        v0.20.0           微服务引擎 OpenAPI       微服务引擎 OpenAPI      v0.22.x        v0.23.0       v0.24.x        v0.25.0       v0.26.x        v0.27.x            服务网格 OpenAPI       服务网格 OpenAPI      v0.105.1       v0.106.2       v0.108.3       v0.109.0           中间件 OpenAPI       中间件 OpenAPI      Index       Elasticsearch OpenAPI        Kafka OpenAPI        MinIO OpenAPI        MongoDB OpenAPI        MySQL OpenAPI        PostgreSQL OpenAPI        RabbitMQ OpenAPI        Redis OpenAPI            全局管理 OpenAPI       全局管理 OpenAPI      v0.15.0       v0.16.x        v0.17.x        v0.18.x        v0.19.0       v0.20.x                      导航      流量治理       安全       可观测性       多集群模式       网格数据面微服务框架       兼容性和扩展               产品文档       微服务       服务网格       介绍                功能总览¶ 此处介绍服务网格支持的功能。 流量治理¶   七层连接池管理 支持配置 HTTP 最大请求数、最大重试次数、最大等待请求数、每次连接最大请求数以及连接最长空闲时间。   四层连接池管理 支持配置 TCP 最大连接数、连接超时时间、最大无响应次数、最短空闲时间以及健康检查间隔。   离群检测 支持配置服务离群检测规则，包括实例被驱逐前的连续错误数、检查周期、基础隔离时间以及最大隔离实例比例。   重试 支持配置 HTTP 重试次数、重试超时时间以及重试条件。   超时 支持配置 HTTP 请求超时时间。   负载均衡 支持配置随机调度、轮询调度、最少连接和一致性哈希多种负载均衡算法。   HTTP Header 可以灵活添加、修改和删除指定 HTTP Header，包括将 HTTP 请求转发到目标服务之前对 Header 的操作，以及将 HTTP 响应回复给客户端前对 Header 的操作。   故障注入 支持配置延时故障和中断故障。   安全¶   透明双向认证 支持界面配置服务间的双向认证。   细粒度访问授权 支持通过界面配置服务间的访问授权（后台 API 可以配置 Namespace 级别授权，授权将会给一个特定的接口）。   可观测性¶   流量拓扑 支持查看网格应用流量拓扑，了解服务间依赖关系。   服务运行监控 支持查看服务访问信息，包括服务和服务各个版本的 QPS 和延时等指标。   访问日志 支持收集和检索服务的访问日志。   调用链 支持非侵入调用链埋点，并可以通过检索调用链数据进行问题定界定位。   多集群模式¶   多集群配置统一管理 支持网格下多集群的网格配置、集群配置管理；支持不同集群不同粒度的边车注入策略，以及支持跨集群流量策略等对数据面配置的统一管理。   可扩展性 支持一键接入、移除集群   网格数据面微服务框架¶   Spring Cloud 支持 Spring Cloud SDK 开发的服务无侵入式的接入网格，并统一管理。   Dubbo 支持 Dubbo SDK 开发的服务无侵入式的接入网格，并统一管理。   兼容性和扩展¶   版本兼容 API 完全兼容通用服务网格。   插件支持 支持 Tracing、Prometheus、Kiali、Grafana。   评论         回到页面顶部        Copyright © 2016 - 2023 DaoCloud                 ', metadata={'source': 'https://docs.daocloud.io/mspider/intro/features.html', 'title': '功能总览 - DaoCloud Enterprise', 'description': 'DaoCloud Enterprise 5.0 下一代容器化平台集大成者，引领云原生浪潮，推动数字化转型。', 'language': 'zh'})]"
      ]
     },
     "execution_count": 10,
     "metadata": {},
     "output_type": "execute_result"
    }
   ],
   "source": [
    "from langchain.document_loaders import WebBaseLoader\n",
    "\n",
    "loader = WebBaseLoader([\"https://docs.daocloud.io/mspider/intro/index.html\",\"https://docs.daocloud.io/mspider/intro/features.html\"])\n",
    "\n",
    "\n",
    "data = loader.load()\n",
    "\n",
    "data"
   ]
  },
  {
   "cell_type": "code",
   "execution_count": 19,
   "id": "2756806b-4f34-4a4b-a937-043ece82aaad",
   "metadata": {},
   "outputs": [
    {
     "ename": "NameError",
     "evalue": "name 'ConversationSummaryMemory' is not defined",
     "output_type": "error",
     "traceback": [
      "\u001b[0;31m---------------------------------------------------------------------------\u001b[0m",
      "\u001b[0;31mNameError\u001b[0m                                 Traceback (most recent call last)",
      "Cell \u001b[0;32mIn[19], line 16\u001b[0m\n\u001b[1;32m     12\u001b[0m \u001b[38;5;28;01mfrom\u001b[39;00m \u001b[38;5;21;01mlangchain\u001b[39;00m\u001b[38;5;21;01m.\u001b[39;00m\u001b[38;5;21;01mvectorstores\u001b[39;00m \u001b[38;5;28;01mimport\u001b[39;00m Chroma\n\u001b[1;32m     14\u001b[0m vectorstore \u001b[38;5;241m=\u001b[39m Chroma\u001b[38;5;241m.\u001b[39mfrom_documents(documents\u001b[38;5;241m=\u001b[39mall_splits, embedding\u001b[38;5;241m=\u001b[39mOpenAIEmbeddings())\n\u001b[0;32m---> 16\u001b[0m memory \u001b[38;5;241m=\u001b[39m \u001b[43mConversationSummaryMemory\u001b[49m(llm\u001b[38;5;241m=\u001b[39mllm,memory_key\u001b[38;5;241m=\u001b[39m\u001b[38;5;124m\"\u001b[39m\u001b[38;5;124mchat_history\u001b[39m\u001b[38;5;124m\"\u001b[39m,return_messages\u001b[38;5;241m=\u001b[39m\u001b[38;5;28;01mTrue\u001b[39;00m)\n",
      "\u001b[0;31mNameError\u001b[0m: name 'ConversationSummaryMemory' is not defined"
     ]
    }
   ],
   "source": [
    "import os\n",
    "from dotenv import load_dotenv\n",
    "\n",
    "load_dotenv()\n",
    "\n",
    "from langchain.text_splitter import RecursiveCharacterTextSplitter\n",
    "\n",
    "text_splitter = RecursiveCharacterTextSplitter(chunk_size=500, chunk_overlap=0)\n",
    "all_splits = text_splitter.split_documents(data)\n",
    "\n",
    "from langchain.embeddings import OpenAIEmbeddings\n",
    "from langchain.vectorstores import Chroma\n",
    "\n",
    "vectorstore = Chroma.from_documents(documents=all_splits, embedding=OpenAIEmbeddings())\n",
    "\n",
    "memory = ConversationSummaryMemory(llm=llm,memory_key=\"chat_history\",return_messages=True)"
   ]
  },
  {
   "cell_type": "code",
   "execution_count": null,
   "id": "f35a6fe7-27e1-4233-a8eb-d114482b2573",
   "metadata": {},
   "outputs": [],
   "source": [
    "from langchain.chat_models import ChatOpenAI\n",
    "from langchain.chains import ConversationalRetrievalChain\n",
    "\n",
    "llm = ChatOpenAI()\n",
    "retriever = vectorstore.as_retriever()\n",
    "qa = ConversationalRetrievalChain.from_llm(llm, retriever=retriever, memory=memory)\n",
    "\n",
    "qa(\"How do agents use Task decomposition?\")\n",
    "\n"
   ]
  }
 ],
 "metadata": {
  "kernelspec": {
   "display_name": "Python 3 (ipykernel)",
   "language": "python",
   "name": "python3"
  },
  "language_info": {
   "codemirror_mode": {
    "name": "ipython",
    "version": 3
   },
   "file_extension": ".py",
   "mimetype": "text/x-python",
   "name": "python",
   "nbconvert_exporter": "python",
   "pygments_lexer": "ipython3",
   "version": "3.8.17"
  }
 },
 "nbformat": 4,
 "nbformat_minor": 5
}
